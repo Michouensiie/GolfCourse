{
 "cells": [
  {
   "cell_type": "markdown",
   "metadata": {},
   "source": [
    "# Reinforcement Learning: Parcours de Golf"
   ]
  },
  {
   "cell_type": "markdown",
   "metadata": {},
   "source": [
    "## Introduction"
   ]
  },
  {
   "cell_type": "markdown",
   "metadata": {},
   "source": [
    "Un parcours de golf peut être simplement modélisé par un problème 2D qui peut être résolu grâce au Reinforcement Learning. L'objectif principal est de trouver une politique permettant de rentrer la balle dans le trou en un minimum de temps."
   ]
  },
  {
   "cell_type": "markdown",
   "metadata": {},
   "source": [
    "## Modélisation"
   ]
  },
  {
   "cell_type": "markdown",
   "metadata": {},
   "source": [
    "### La structure"
   ]
  },
  {
   "cell_type": "markdown",
   "metadata": {},
   "source": [
    "La modélisation du parcours de golf se fait simplement par une grille de taille $MxM$, où M est un entier compris dans l'intervalle $[2,7]$. Ensuite, la balle sera elle représentée par un $\"1\"$, tandis que le trou sera lui réprésenté par un $\"2\"$. Enfin, lorsque l'agent aura réussi à mettre la balle dans le trou, on trouvera alors un $\"3\"$ dans la grille, signifiant par ailleurs que la partie est terminée. Voici deux parcours de golf qui imagent nos choix."
   ]
  },
  {
   "cell_type": "markdown",
   "metadata": {},
   "source": [
    "Avec cette représentation, on distingue alors $MxM=M^2$ états possibles pour la balle et le trou, ce qui au total fait $M^4$ différents états pour notre grille. Du côté des actions, elles sont au nombre de 8 (en avant, en arrière, à droite, à gauche, diagonales droite et gauche, diagonales arrière droite et gauche). En combinant ces deux résulats, on trouve alors $8M^4$ pairs états/actions envisageables.\n",
    "    \n",
    "Lorsque l'agent réussira à mettre la balle dans le trou, on lui fournira une récompense de \"1\" puisqu'il aura rempli la contrainte de gain de la partie, tandis qu'on le récompensera d'un 0 dans le cas où il n'y arrive pas."
   ]
  },
  {
   "cell_type": "markdown",
   "metadata": {},
   "source": [
    "### Méthode de résolution"
   ]
  },
  {
   "cell_type": "markdown",
   "metadata": {},
   "source": [
    "Pour résoudre le problème de golf, nous avons opté pour l'utilisation du Q-learning. En effet, l'objectif de l'agent est de parvenir à mettre la balle dans le trou en un minimum de coup possible. Pour cela à chaque interaction nous voulons choisir celle qui va nous permettre de nous rapprocher au plus du drapeau, jusqu'à l'atteindre. La traduction de cet objectif est donc qu'a chaque pas de temps, nous choisissons l'action qui nous permet de maximiser notre fonction de valeur à l'état d'après. Nous détaillerons ultérieuremet au sein de la partie dédier à l'architecture du code ce fonctionnement."
   ]
  },
  {
   "cell_type": "markdown",
   "metadata": {},
   "source": [
    "### Méthode d'exploitation"
   ]
  },
  {
   "cell_type": "markdown",
   "metadata": {},
   "source": [
    "Le choix concernant cet aspect a été d'utiliser la méthode epsylon greedy, qui s'accorde parfaitement avec notre méthode de résolution. "
   ]
  },
  {
   "cell_type": "markdown",
   "metadata": {},
   "source": [
    "$\\epsilon \\%$ du temps nous allons choisir une action au hasard (phase d'exploration) et $1-\\epsilon \\%$ du temps nous prendrons le meilleur choix possible. \n",
    "\n",
    "Dans notre cas, l'utilisation d'une méthode Softmax nous ralentirait, du fait de devoir calculer à chaque pas de temps autant de probabilité que d'action. Néanmoins cette méthode permettrait d'avoir un choix de coup plus judicieux."
   ]
  },
  {
   "cell_type": "markdown",
   "metadata": {},
   "source": [
    "### Type d'algorythme"
   ]
  },
  {
   "cell_type": "markdown",
   "metadata": {},
   "source": [
    "Nous avons choisi d'utiliser le principe de TD-learning. En effet, nous sommes en model-free avec un environnement qui devient de plus en plus grand avec la taille de la grille. Ainsi nous allons procéder par échantillonnage de celui-ci. Nous mettons alors à jour la fonction de valeur par le biais de cette formule:"
   ]
  },
  {
   "cell_type": "markdown",
   "metadata": {},
   "source": [
    "$   \n",
    "             V(S_t) = V(S_t) + \\alpha(\\gamma V(S_{t+1})-V(S_t))\n",
    "$"
   ]
  },
  {
   "cell_type": "markdown",
   "metadata": {},
   "source": [
    "avec comme paramètres:\n",
    "\n",
    "-$\\alpha$: le learning rate qu'on fixe dans un premier temps à 0.1 (valeur souvent utilisée)\n",
    "\n",
    "-$\\gamma$: le facteur d'actualisation qui nous permet  de prendre en compte les récompenses futures. Dans notre cas, nous voulons pénaliser un nombre de coups trop élevé, c'est pourquoi on choisit une valeure de 0.7"
   ]
  },
  {
   "cell_type": "markdown",
   "metadata": {},
   "source": [
    "## Code"
   ]
  },
  {
   "cell_type": "code",
   "execution_count": 2,
   "metadata": {},
   "outputs": [],
   "source": [
    "import numpy as np\n",
    "import pickle\n",
    "import matplotlib.pyplot as plt\n",
    "import time"
   ]
  },
  {
   "cell_type": "markdown",
   "metadata": {},
   "source": [
    "### Classe d'état"
   ]
  },
  {
   "cell_type": "code",
   "execution_count": 3,
   "metadata": {},
   "outputs": [],
   "source": [
    "class State:\n",
    "    \n",
    "    ##Initialisation de la classe State\n",
    "    def __init__(self,player,M):\n",
    "        self.M = M #dimension\n",
    "        \n",
    "        #création aléatoire du board\n",
    "        self.board = np.zeros(((M,M)))\n",
    "        ball = (np.random.randint(0,M),np.random.randint(0,M))\n",
    "        flag = (np.random.randint(0,M),np.random.randint(0,M))\n",
    "        while(ball == flag):\n",
    "            ball = (np.random.randint(0,M),np.random.randint(0,M))\n",
    "            flag = (np.random.randint(0,M),np.random.randint(0,M))\n",
    "        self.ball = [ball[0],ball[1]]\n",
    "        self.flag = [flag[0],flag[1]]\n",
    "        self.board[ball[0],ball[1]] = 1\n",
    "        self.board[flag[0],flag[1]] = 2\n",
    "        \n",
    "        self.player = player\n",
    "        self.isEnd = False\n",
    "        self.boardHash = None\n",
    "        self.nbShoot = 0\n",
    "        self.parShoot = max(abs(self.ball[0]-self.flag[0]),abs(self.ball[1]-self.flag[1])) #nombre de coup optimal\n",
    "        self.nbShoots = [] #nombre de shoot pour chaque partie lors de l'entrainement\n",
    "        self.diffShoot = [] #difference nombre coup optimal, nombre de coup\n",
    "        self.time = [] #temps d'execution\n",
    "        \n",
    "    ## Permet de placer le board sous la forme d'une vecteur linéaire, que l'on stockera dans un dictionnaire avec une valeur\n",
    "    def getHash(self):\n",
    "        self.boardHash = str(self.board.reshape(pow(self.M,2)))\n",
    "        return self.boardHash\n",
    "    \n",
    "    ## On distingue ici toutes les positions où la balle peut se rendre\n",
    "    def avaiblePositions(self):\n",
    "        avaiablePos = []\n",
    "        x = self.ball[0]\n",
    "        y = self.ball[1]\n",
    "        \n",
    "        avaiablePos.append([x+1,y])\n",
    "        avaiablePos.append([x+1,y-1])\n",
    "        avaiablePos.append([x+1,y+1])\n",
    "        avaiablePos.append([x-1,y])\n",
    "        avaiablePos.append([x-1,y-1])\n",
    "        avaiablePos.append([x-1,y+1])\n",
    "        avaiablePos.append([x,y+1])\n",
    "        avaiablePos.append([x,y-1])\n",
    "            \n",
    "        return avaiablePos\n",
    "    \n",
    "    ## On met ici a jour le board de jeu\n",
    "    def updateBoard(self,action):\n",
    "        \n",
    "        self.board[self.ball[0],self.ball[1]] = 0\n",
    "        self.ball[0] = action[0]\n",
    "        self.ball[1] = action[1]\n",
    "        \n",
    "\n",
    "        if action == self.flag:\n",
    "            self.board[action[0],action[1]] = 3 #cas où l'on a gagné une partie\n",
    "        else:\n",
    "            self.board[action[0],action[1]] = 1 #cas où l'on a déplacé la balle\n",
    "        \n",
    "        \n",
    "    ## Fonction qui nous permet de savoir si la partie est terminée\n",
    "    def checkIsEnd(self):\n",
    "        if self.ball == self.flag: \n",
    "            self.isEnd = True\n",
    "            self.player.win = True\n",
    "        if self.nbShoot>=3*self.M:\n",
    "            self.isEnd = True\n",
    "            \n",
    "    ## On récompense ici notre agent, 1 s'il gagne, 0 sinon\n",
    "    def giveRewards(self):\n",
    "        if self.player.win:\n",
    "            reward = 1\n",
    "        else:\n",
    "            reward = 0\n",
    "        self.player.feedReward(reward) \n",
    "        \n",
    "    ## Remise à zéro des paramètres afin de pouvoir en débuter une nouvelle\n",
    "    def reset(self):\n",
    "        M = self.M\n",
    "        self.board = np.zeros(((M,M)))\n",
    "        ball = (np.random.randint(0,M),np.random.randint(0,M))\n",
    "        flag = (np.random.randint(0,M),np.random.randint(0,M))\n",
    "        while(ball == flag):\n",
    "            ball = (np.random.randint(0,M),np.random.randint(0,M))\n",
    "            flag = (np.random.randint(0,M),np.random.randint(0,M))\n",
    "        self.ball = [ball[0],ball[1]]\n",
    "        self.flag = [flag[0],flag[1]]\n",
    "        self.board[ball[0],ball[1]] = 1\n",
    "        self.board[flag[0],flag[1]] = 2\n",
    "        self.isEnd = False\n",
    "        self.boardHash = None\n",
    "        self.nbShoot = 0\n",
    "        self.parShoot = max(abs(self.ball[0]-self.flag[0]),abs(self.ball[1]-self.flag[1]))\n",
    "    \n",
    "    \n",
    "    ## On check si le coup choisi par l'agent correspond à une case de la grille, ie s'il est ou non out of bounds\n",
    "    def checkActionIntoBounds(self,action):\n",
    "        x = action[0]\n",
    "        y = action[1]\n",
    "        if x>=0 and x<=self.M-1:\n",
    "            if y>=0 and y<=self.M-1:\n",
    "                return True\n",
    "        return False\n",
    "    \n",
    "    ## Fonction d'entrainement de l'agent\n",
    "    ## Dans un premier temps on récupère les positions envisageables, puis on choisis une action à l'aide de la fonction \n",
    "    ## chooseAction de l'agent. On test ensuite si elle est envisageableou on. Dans le cas où elle l'est, on update de le board.\n",
    "    ## On enregistre ensuite le hashed Board dans la list de l'agent prévue à cet effet\n",
    "    def play(self,rounds=100):\n",
    "        startTime = time.time() #nous permet de chronométrer le temps d'éxecution\n",
    "        for i in range(rounds):\n",
    "            if i%10000 == 0:\n",
    "                print(\"Rounds {}\".format(i)) #état des lieux du nombre de parties\n",
    "            while self.isEnd == False:\n",
    "                self.nbShoot += 1\n",
    "                avaiblePositions = self.avaiblePositions()\n",
    "                action = self.player.chooseAction(avaiblePositions,self.board,self.flag,self.ball)\n",
    "                if self.checkActionIntoBounds(action):\n",
    "                    self.updateBoard(action)\n",
    "                boardHash = self.getHash()\n",
    "                self.player.states.append(boardHash)\n",
    "                self.checkIsEnd()\n",
    "            \n",
    "            self.nbShoots.append(self.nbShoot)\n",
    "            self.diffShoot.append(self.nbShoot - self.parShoot)\n",
    "            self.time.append(time.time()-startTime)\n",
    "            self.giveRewards()\n",
    "            self.player.reset()\n",
    "            self.reset()\n",
    "\n",
    "    ## Fonction qui nous permet à nous de jouer         \n",
    "    def playHuman(self):\n",
    "        while self.isEnd==False:\n",
    "            self.showBoard()\n",
    "            self.nbShoot +=1\n",
    "            avaiblePositions = self.avaiblePositions()\n",
    "            print(avaiblePositions)\n",
    "            print('choisir en fonction de la position où l\"on veut aller')\n",
    "            i = int(input())\n",
    "            action = [self.ball[0],self.ball[1]]\n",
    "            for k in range(len(avaiblePositions)):\n",
    "                if k == i:\n",
    "                    action = avaiblePositions[k]\n",
    "            if self.checkActionIntoBounds(action):\n",
    "                self.updateBoard(action)\n",
    "            self.checkIsEnd()\n",
    "            \n",
    "            \n",
    "        if self.player.win == True:\n",
    "            print(\"Winner\")\n",
    "        else:\n",
    "            print('Looser')\n",
    "            \n",
    "    ## Fonction permettant à l'agent de nous montrer ce qu'il a appri\n",
    "    def playAlone(self):\n",
    "        while self.isEnd == False:\n",
    "            self.showBoard()\n",
    "            self.nbShoot += 1\n",
    "            avaiblePositions = self.avaiblePositions()\n",
    "            action = self.player.chooseAction(avaiblePositions,self.board,self.flag,self.ball)\n",
    "            if self.checkActionIntoBounds(action):\n",
    "                self.updateBoard(action)\n",
    "                boardHash = self.getHash()\n",
    "                self.player.states.append(boardHash)\n",
    "                self.checkIsEnd()\n",
    "        if self.player.win == True:\n",
    "            print(\"Winner\")\n",
    "        else:\n",
    "            print('Looser')\n",
    "        print(\"Le plus petit nombre de coup pour gagner est de \",self.parShoot)\n",
    "        print(\"La partie a été gagné en \",self.nbShoot,\" coup\")\n",
    "        self.reset()\n",
    "        \n",
    "    ## Affichage du board\n",
    "    def showBoard(self):\n",
    "        for i in range(self.M):\n",
    "            print('--------------------------')\n",
    "            out = '|'\n",
    "            for j in range(self.M):\n",
    "                elem = self.board[i][j]\n",
    "                if elem == 1:\n",
    "                    token = ' O '\n",
    "                elif elem == 2:\n",
    "                    token = ' X '\n",
    "                else:\n",
    "                    token = '   '\n",
    "                out += token + '|'\n",
    "            print(out)\n",
    "        print('--------------------------')"
   ]
  },
  {
   "cell_type": "markdown",
   "metadata": {},
   "source": [
    "### Classe joueur"
   ]
  },
  {
   "cell_type": "code",
   "execution_count": 4,
   "metadata": {},
   "outputs": [],
   "source": [
    "class Player:\n",
    "    ## Fonction d'initialisation avec un exploration rate, un gamma et un learning rate\n",
    "    def __init__(self, name, exp_rate=0.3,decayGamma=0.7,lr = 0.1):\n",
    "        self.name = name\n",
    "        self.win = False\n",
    "        self.states = [] #on récupère le chemin\n",
    "        self.exp_rate = exp_rate\n",
    "        self.learningRate = lr\n",
    "        self.decayGamma = decayGamma\n",
    "        self.statesValue= {}\n",
    "    \n",
    "    ## Reset des paramètre du joueur\n",
    "    def reset(self):\n",
    "        self.states = []\n",
    "        self.win = False\n",
    "    \n",
    "    ## Update du board lors du choix d'une action\n",
    "    def updateBoard(self,board,action,flag,ball):\n",
    "        board[ball[0],ball[1]] = 0\n",
    "        if action == flag:\n",
    "            board[action[0],action[1]] = 3\n",
    "        else:\n",
    "            board[action[0],action[1]] = 1\n",
    "    \n",
    "    ## Hashage du board\n",
    "    def getHash(self, board):\n",
    "        boardHash = str(board.reshape(pow(len(board),2)))\n",
    "        return boardHash\n",
    "    \n",
    "    ## On fourni à l'agent une récompense lorsqu'il gagne la partie\n",
    "    def feedReward(self,reward):\n",
    "        for state in reversed(self.states):\n",
    "            if self.statesValue.get(state) is None:\n",
    "                self.statesValue[state] = 0\n",
    "            self.statesValue[state] += self.learningRate*(self.decayGamma*reward - self.statesValue[state])\n",
    "            reward = self.statesValue[state]\n",
    "        \n",
    "    ## On check si le coup est out of bounds\n",
    "    def checkActionIntoBounds(self,action,M):\n",
    "        x = action[0]\n",
    "        y = action[1]\n",
    "        if x>=0 and x<=M-1:\n",
    "            if y>=0 and y<=M-1:\n",
    "                return True\n",
    "        return False\n",
    "    \n",
    "    ## Fonction qui permet à l'agent de choisir l'action qu'il va réaliser\n",
    "    def chooseAction(self, avaiblePositions,board,flag,ball):\n",
    "        #exploration de l'environnement par l'agent\n",
    "        if np.random.uniform(0,1) <= self.exp_rate:\n",
    "            action = avaiblePositions[np.random.choice(len(avaiblePositions))]\n",
    "        #exploitation de l'environnement par l'agent\n",
    "        else:\n",
    "            # Ici on va tester toutes les actions envisageable et sélectionner celle qui maximise notre fonction de valeure\n",
    "            # Pour cela, pour chaque avaible positions, on récupère le nouveau board et on va chercher sa value dans notre \n",
    "            # dictionaire, puis on sélectionne la meilleure possible\n",
    "            \n",
    "            values = [0 for i in range(8)]\n",
    "            for i in range(8):\n",
    "                p = avaiblePositions[i]\n",
    "                nextBoard = board.copy()\n",
    "                if self.checkActionIntoBounds(p,len(board)):\n",
    "                    self.updateBoard(nextBoard,p,flag,ball)\n",
    "                nextBoardHash = self.getHash(nextBoard)\n",
    "                values[i] = 0 if self.statesValue.get(nextBoardHash) is None else self.statesValue.get(nextBoardHash)\n",
    "            if values == [0,0,0,0,0,0,0,0]:\n",
    "                action = avaiblePositions[np.random.choice(len(avaiblePositions))]\n",
    "            else:\n",
    "                idx = values.index(max(values))\n",
    "                action = avaiblePositions[idx]\n",
    "        return action\n",
    "    \n",
    "    ## Enregistrement de la politique\n",
    "    def savePolicy(self):\n",
    "        fw = open('policy_' + str(self.name), 'wb')\n",
    "        pickle.dump(self.statesValue, fw)\n",
    "        fw.close()\n",
    "    \n",
    "    ## Chargement de la politique\n",
    "    def loadPolicy(self, file):\n",
    "        fr = open(file,'rb')\n",
    "        self.statesValue = pickle.load(fr)\n",
    "        fr.close()"
   ]
  },
  {
   "cell_type": "markdown",
   "metadata": {},
   "source": [
    "### Entrainement de l'agent et premiers résultats"
   ]
  },
  {
   "cell_type": "code",
   "execution_count": 5,
   "metadata": {},
   "outputs": [
    {
     "name": "stdout",
     "output_type": "stream",
     "text": [
      "Rounds 0\n",
      "Rounds 10000\n",
      "Rounds 20000\n",
      "Rounds 30000\n",
      "Rounds 40000\n"
     ]
    }
   ],
   "source": [
    "N= 50000\n",
    "P = Player(\"Luca\")\n",
    "St = State(P,7)\n",
    "\n",
    "St.play(N)\n",
    "\n",
    "P.savePolicy()"
   ]
  },
  {
   "cell_type": "code",
   "execution_count": 6,
   "metadata": {},
   "outputs": [
    {
     "name": "stderr",
     "output_type": "stream",
     "text": [
      "C:\\Users\\micci\\anaconda3\\lib\\site-packages\\numpy\\core\\fromnumeric.py:3335: RuntimeWarning: Mean of empty slice.\n",
      "  out=out, **kwargs)\n",
      "C:\\Users\\micci\\anaconda3\\lib\\site-packages\\numpy\\core\\_methods.py:161: RuntimeWarning: invalid value encountered in double_scalars\n",
      "  ret = ret.dtype.type(ret / rcount)\n"
     ]
    }
   ],
   "source": [
    "x = [p for p in range(N)]\n",
    "rollingMean = [np.mean(St.nbShoots[:i]) for i in range(N)] #moyenne des coups en fonction du temps\n",
    "timeTraining = St.time\n",
    "deltaTho = St.diffShoot"
   ]
  },
  {
   "cell_type": "code",
   "execution_count": 7,
   "metadata": {},
   "outputs": [
    {
     "data": {
      "image/png": "[encoded data removed]",
      "text/plain": [
       "<Figure size 720x360 with 1 Axes>"
      ]
     },
     "metadata": {
      "needs_background": "light"
     },
     "output_type": "display_data"
    },
    {
     "data": {
      "image/png": "[encoded data removed]",
      "text/plain": [
       "<Figure size 720x360 with 1 Axes>"
      ]
     },
     "metadata": {
      "needs_background": "light"
     },
     "output_type": "display_data"
    },
    {
     "data": {
      "image/png": "[encoded data removed]",
      "text/plain": [
       "<Figure size 720x360 with 1 Axes>"
      ]
     },
     "metadata": {
      "needs_background": "light"
     },
     "output_type": "display_data"
    }
   ],
   "source": [
    "plt.figure(figsize=(10,5))\n",
    "plt.title(\"Nombre de coup moyen en fonction du temps\",size=18)\n",
    "plt.xlabel(\"Nombre de Partie\",size=18)\n",
    "plt.ylabel(\"Nombre moyen de coup\",size=18)\n",
    "plt.xticks(fontsize=18)\n",
    "plt.yticks(fontsize=18)\n",
    "plt.plot(x,rollingMean,\"or\")\n",
    "plt.show()\n",
    "\n",
    "\n",
    "plt.figure(figsize=(10,5))\n",
    "plt.title(\"Temps de convergence\",size=18)\n",
    "plt.xlabel(\"Nombre de Partie\",size=18)\n",
    "plt.ylabel(\"Temps\",size=18)\n",
    "plt.plot(x,timeTraining,\"or\")\n",
    "plt.xticks(fontsize=18)\n",
    "plt.yticks(fontsize=18)\n",
    "plt.show()\n",
    "\n",
    "\n",
    "plt.figure(figsize=(10,5))\n",
    "plt.title(\"Nombre de coup supplémentaire par rapport à l'optimalité\")\n",
    "plt.xlabel(\"Nombre de Partie\")\n",
    "plt.ylabel(\"Différence nombre coup/nombre optimal de coup\")\n",
    "plt.plot(x,deltaTho,\"ob\")\n",
    "plt.show()\n"
   ]
  },
  {
   "cell_type": "markdown",
   "metadata": {},
   "source": [
    "Nous observons ici deux graphiques, l'un représentant le nombre de coups moyen d'une partie et l'autre le temps en fonction du nombre de parties. Sur une grille de taille $7x7$ on pourra s'attendre à une convergence lorsqu'en moyenne on arrive à gagner la partie en 5.5 coups. "
   ]
  },
  {
   "cell_type": "markdown",
   "metadata": {},
   "source": [
    "On peut alors voir que le nombre de coups moyen est une fonction décroissante du temps. On voit qu'au bout de $10'000$ parties on a déjà atteint un nombre de coups moyen de $6$ pour gagner la partie. On observe alors qu'on atteint un nombre de coups moyen au bout de:"
   ]
  },
  {
   "cell_type": "code",
   "execution_count": 8,
   "metadata": {},
   "outputs": [
    {
     "name": "stdout",
     "output_type": "stream",
     "text": [
      "On atteint convergence au bout de  13447  partie, pour un temps d'execution de  217.0623071193695  secondes.\n"
     ]
    }
   ],
   "source": [
    "K = 1\n",
    "while rollingMean[K] > 5.5:\n",
    "    K+=1\n",
    "print(\"On atteint convergence au bout de \",K,\" partie, pour un temps d'execution de \",timeTraining[K],\" secondes.\")"
   ]
  },
  {
   "cell_type": "markdown",
   "metadata": {},
   "source": [
    "On voit donc ici que l'agent à une politique qui converge à $K$ et qui à $K+500$ s'est encore améliorée."
   ]
  },
  {
   "cell_type": "markdown",
   "metadata": {},
   "source": [
    "NB:\n",
    "    - on choisit ici de ne pas afficher la différence entre le nombre de coups et le nombre de coups optimaux du fait que la méthode epsilon nous fait faire des choix aléatoires pendant l'entrainement, et donc rend cet affichage illisible\n",
    "    - Pour plus d'optimalité au niveau exécution, il faudra exécuter le code python en un seul bloc sur un IDE"
   ]
  },
  {
   "cell_type": "markdown",
   "metadata": {},
   "source": [
    "### Optimisation des paramètres"
   ]
  },
  {
   "cell_type": "markdown",
   "metadata": {},
   "source": [
    "Ici, nous allong essayer d'optimiser les paramètres $\\alpha$ et $\\gamma$."
   ]
  },
  {
   "cell_type": "markdown",
   "metadata": {},
   "source": [
    "#### Gamma"
   ]
  },
  {
   "cell_type": "markdown",
   "metadata": {},
   "source": [
    "Dans notre cas, nous voulons fortement pénaliser un nombre de coups élevé. C'est pourquoi il semble logique que celui-ci se trouve plutôt dans l'intervalle $[0.5;1]$. Pour l'optimiser, nous allons donc tester une d'entraîner plusieurs agents avec un échantillonage de 0.1"
   ]
  },
  {
   "cell_type": "code",
   "execution_count": 9,
   "metadata": {},
   "outputs": [
    {
     "name": "stdout",
     "output_type": "stream",
     "text": [
      "Rounds 0\n",
      "Rounds 10000\n"
     ]
    },
    {
     "name": "stderr",
     "output_type": "stream",
     "text": [
      "C:\\Users\\micci\\anaconda3\\lib\\site-packages\\numpy\\core\\fromnumeric.py:3335: RuntimeWarning: Mean of empty slice.\n",
      "  out=out, **kwargs)\n",
      "C:\\Users\\micci\\anaconda3\\lib\\site-packages\\numpy\\core\\_methods.py:161: RuntimeWarning: invalid value encountered in double_scalars\n",
      "  ret = ret.dtype.type(ret / rcount)\n"
     ]
    },
    {
     "name": "stdout",
     "output_type": "stream",
     "text": [
      "Rounds 0\n",
      "Rounds 10000\n",
      "Rounds 0\n",
      "Rounds 10000\n",
      "Rounds 0\n",
      "Rounds 10000\n",
      "Rounds 0\n",
      "Rounds 10000\n",
      "Rounds 0\n",
      "Rounds 10000\n"
     ]
    }
   ],
   "source": [
    "N= 15000\n",
    "gamma = np.linspace(0.5,1.0,6)\n",
    "rollingMean = []\n",
    "timeTraining = []\n",
    "for g in gamma:\n",
    "    P = Player(\"Luca\",decayGamma= g)\n",
    "    St = State(P,7)\n",
    "    St.play(N)\n",
    "    rollingMean.append([np.mean(St.nbShoots[:i]) for i in range(N)])\n",
    "    timeTraining.append(St.time)"
   ]
  },
  {
   "cell_type": "markdown",
   "metadata": {},
   "source": [
    "Pour un nombre de 15000 parties:"
   ]
  },
  {
   "cell_type": "code",
   "execution_count": 10,
   "metadata": {},
   "outputs": [
    {
     "name": "stdout",
     "output_type": "stream",
     "text": [
      "avec un gamma de 0.5 , on trouve : 5.451563437562505\n",
      "avec un gamma de 0.6 , on trouve : 5.476365091006067\n",
      "avec un gamma de 0.7 , on trouve : 5.471831455430362\n",
      "avec un gamma de 0.8 , on trouve : 5.539435962397493\n",
      "avec un gamma de 0.9 , on trouve : 5.60457363824255\n",
      "avec un gamma de 1.0 , on trouve : 5.614107607173811\n"
     ]
    }
   ],
   "source": [
    "x = [p for p in range(N)]\n",
    "for i in range(6):\n",
    "    print(\"avec un gamma de\",gamma[i], \", on trouve :\",rollingMean[i][N-1])"
   ]
  },
  {
   "cell_type": "markdown",
   "metadata": {},
   "source": [
    "Au vu des résultats obtenus via les tests des différents gamma, on s'aperçoit qu'avec une valeur de 0.6 ou 0.7 on obtient la meilleure convergence possible.\n",
    "\n",
    "###### Nous choisissons alors $\\gamma$ = 0.7, qui est la valeur initialement choisie"
   ]
  },
  {
   "cell_type": "markdown",
   "metadata": {},
   "source": [
    "#### Alpha"
   ]
  },
  {
   "cell_type": "code",
   "execution_count": 11,
   "metadata": {},
   "outputs": [
    {
     "name": "stdout",
     "output_type": "stream",
     "text": [
      "Rounds 0\n",
      "Rounds 10000\n",
      "Rounds 0\n",
      "Rounds 10000\n",
      "Rounds 0\n",
      "Rounds 10000\n",
      "Rounds 0\n",
      "Rounds 10000\n",
      "Rounds 0\n",
      "Rounds 10000\n",
      "Rounds 0\n",
      "Rounds 10000\n"
     ]
    }
   ],
   "source": [
    "N= 15000\n",
    "alpha = np.linspace(0.0,0.3,6)\n",
    "rollingMean = []\n",
    "timeTraining = []\n",
    "for a in alpha:\n",
    "    P = Player(\"Luca\",lr=a)\n",
    "    St = State(P,7)\n",
    "    St.play(N)\n",
    "    rollingMean.append([np.mean(St.nbShoots[:i]) for i in range(N)])"
   ]
  },
  {
   "cell_type": "code",
   "execution_count": 12,
   "metadata": {},
   "outputs": [
    {
     "name": "stdout",
     "output_type": "stream",
     "text": [
      "avec un gamma de 0.0 , on trouve : 18.54290286019068\n",
      "avec un gamma de 0.06 , on trouve : 5.601106740449363\n",
      "avec un gamma de 0.12 , on trouve : 5.4790319354623644\n",
      "avec un gamma de 0.18 , on trouve : 5.429361957463831\n",
      "avec un gamma de 0.24 , on trouve : 5.309353956930462\n",
      "avec un gamma de 0.3 , on trouve : 5.389559303953597\n"
     ]
    }
   ],
   "source": [
    "x = [p for p in range(N)]\n",
    "for i in range(6):\n",
    "    print(\"avec un alpha de\",alpha[i], \", on trouve :\",rollingMean[i][N-1])"
   ]
  },
  {
   "cell_type": "markdown",
   "metadata": {},
   "source": [
    "On trouve ici notre alpha en prenant le plus petit nombre de coups moyen, qui est de 0.12"
   ]
  },
  {
   "cell_type": "markdown",
   "metadata": {},
   "source": [
    "### Modèle Final"
   ]
  },
  {
   "cell_type": "markdown",
   "metadata": {},
   "source": [
    "#### Entraînement"
   ]
  },
  {
   "cell_type": "code",
   "execution_count": 13,
   "metadata": {},
   "outputs": [
    {
     "name": "stdout",
     "output_type": "stream",
     "text": [
      "Rounds 0\n",
      "Rounds 10000\n"
     ]
    }
   ],
   "source": [
    "alpha = 0.12\n",
    "gamma = 0.7\n",
    "M = 7\n",
    "N = 15000\n",
    "\n",
    "P = Player(\"computer\",lr=alpha,decayGamma=gamma)\n",
    "E = State(P,M)\n",
    "\n",
    "E.play(N)\n",
    "P.savePolicy()"
   ]
  },
  {
   "cell_type": "markdown",
   "metadata": {},
   "source": [
    "#### Test"
   ]
  },
  {
   "cell_type": "code",
   "execution_count": 14,
   "metadata": {},
   "outputs": [],
   "source": [
    "testPlayer = Player(\"test\",exp_rate=0)\n",
    "testPlayer.loadPolicy(\"policy_computer\")\n",
    "\n",
    "TestState = State(testPlayer, 7)"
   ]
  },
  {
   "cell_type": "code",
   "execution_count": 15,
   "metadata": {},
   "outputs": [
    {
     "name": "stdout",
     "output_type": "stream",
     "text": [
      "--------------------------\n",
      "|   |   |   |   |   |   |   |\n",
      "--------------------------\n",
      "|   |   |   |   |   |   |   |\n",
      "--------------------------\n",
      "|   |   |   |   |   |   |   |\n",
      "--------------------------\n",
      "|   |   |   |   | X |   |   |\n",
      "--------------------------\n",
      "|   |   |   |   |   |   |   |\n",
      "--------------------------\n",
      "|   |   |   |   |   | O |   |\n",
      "--------------------------\n",
      "|   |   |   |   |   |   |   |\n",
      "--------------------------\n",
      "--------------------------\n",
      "|   |   |   |   |   |   |   |\n",
      "--------------------------\n",
      "|   |   |   |   |   |   |   |\n",
      "--------------------------\n",
      "|   |   |   |   |   |   |   |\n",
      "--------------------------\n",
      "|   |   |   |   | X |   |   |\n",
      "--------------------------\n",
      "|   |   |   |   |   | O |   |\n",
      "--------------------------\n",
      "|   |   |   |   |   |   |   |\n",
      "--------------------------\n",
      "|   |   |   |   |   |   |   |\n",
      "--------------------------\n",
      "Winner\n",
      "Le plus petit nombre de coup pour gagner est de  2\n",
      "La partie a été gagné en  2  coup\n"
     ]
    }
   ],
   "source": [
    "TestState.playAlone()"
   ]
  },
  {
   "cell_type": "code",
   "execution_count": 16,
   "metadata": {},
   "outputs": [
    {
     "name": "stdout",
     "output_type": "stream",
     "text": [
      "--------------------------\n",
      "|   |   |   |   |   |   | O |\n",
      "--------------------------\n",
      "|   |   |   |   |   |   |   |\n",
      "--------------------------\n",
      "|   |   |   |   |   | X |   |\n",
      "--------------------------\n",
      "|   |   |   |   |   |   |   |\n",
      "--------------------------\n",
      "|   |   |   |   |   |   |   |\n",
      "--------------------------\n",
      "|   |   |   |   |   |   |   |\n",
      "--------------------------\n",
      "|   |   |   |   |   |   |   |\n",
      "--------------------------\n",
      "--------------------------\n",
      "|   |   |   |   |   |   |   |\n",
      "--------------------------\n",
      "|   |   |   |   |   | O |   |\n",
      "--------------------------\n",
      "|   |   |   |   |   | X |   |\n",
      "--------------------------\n",
      "|   |   |   |   |   |   |   |\n",
      "--------------------------\n",
      "|   |   |   |   |   |   |   |\n",
      "--------------------------\n",
      "|   |   |   |   |   |   |   |\n",
      "--------------------------\n",
      "|   |   |   |   |   |   |   |\n",
      "--------------------------\n",
      "Winner\n",
      "Le plus petit nombre de coup pour gagner est de  2\n",
      "La partie a été gagné en  2  coup\n"
     ]
    }
   ],
   "source": [
    "TestState.playAlone()"
   ]
  },
  {
   "cell_type": "code",
   "execution_count": 17,
   "metadata": {},
   "outputs": [
    {
     "name": "stdout",
     "output_type": "stream",
     "text": [
      "--------------------------\n",
      "|   |   |   |   |   |   |   |\n",
      "--------------------------\n",
      "|   |   |   |   |   |   |   |\n",
      "--------------------------\n",
      "|   |   |   |   |   |   |   |\n",
      "--------------------------\n",
      "|   |   |   |   |   |   |   |\n",
      "--------------------------\n",
      "|   |   |   |   |   |   |   |\n",
      "--------------------------\n",
      "|   |   |   | O |   |   |   |\n",
      "--------------------------\n",
      "|   |   | X |   |   |   |   |\n",
      "--------------------------\n",
      "Winner\n",
      "Le plus petit nombre de coup pour gagner est de  1\n",
      "La partie a été gagné en  1  coup\n"
     ]
    }
   ],
   "source": [
    "TestState.playAlone()"
   ]
  },
  {
   "cell_type": "markdown",
   "metadata": {},
   "source": [
    "On voit alors que notre modèle permet de trouver à chaque fois le trou en un nombre de coups optimal"
   ]
  }
 ],
 "metadata": {
  "kernelspec": {
   "display_name": "Python 3",
   "language": "python",
   "name": "python3"
  },
  "language_info": {
   "codemirror_mode": {
    "name": "ipython",
    "version": 3
   },
   "file_extension": ".py",
   "mimetype": "text/x-python",
   "name": "python",
   "nbconvert_exporter": "python",
   "pygments_lexer": "ipython3",
   "version": "3.7.6"
  }
 },
 "nbformat": 4,
 "nbformat_minor": 4
}
